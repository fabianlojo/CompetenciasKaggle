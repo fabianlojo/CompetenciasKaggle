{
 "cells": [
  {
   "cell_type": "markdown",
   "metadata": {},
   "source": [
    "#  Avila Bible Competition"
   ]
  },
  {
   "cell_type": "markdown",
   "metadata": {},
   "source": [
    "## Importing libraries:"
   ]
  },
  {
   "cell_type": "code",
   "execution_count": 15,
   "metadata": {
    "scrolled": true
   },
   "outputs": [],
   "source": [
    "import pandas as pd\n",
    "from sklearn.model_selection import train_test_split\n",
    "from sklearn.linear_model import LogisticRegression\n",
    "from sklearn.svm import LinearSVC\n",
    "from sklearn.ensemble import RandomForestClassifier\n",
    "from sklearn.svm import SVC\n",
    "from sklearn.calibration import CalibratedClassifierCV\n",
    "import seaborn as sns\n",
    "import numpy as np\n",
    "from scipy import stats\n",
    "\n",
    "%matplotlib inline"
   ]
  },
  {
   "cell_type": "markdown",
   "metadata": {},
   "source": [
    "## Analazing Data Set:"
   ]
  },
  {
   "cell_type": "code",
   "execution_count": 16,
   "metadata": {},
   "outputs": [
    {
     "data": {
      "text/html": [
       "<div>\n",
       "<style scoped>\n",
       "    .dataframe tbody tr th:only-of-type {\n",
       "        vertical-align: middle;\n",
       "    }\n",
       "\n",
       "    .dataframe tbody tr th {\n",
       "        vertical-align: top;\n",
       "    }\n",
       "\n",
       "    .dataframe thead th {\n",
       "        text-align: right;\n",
       "    }\n",
       "</style>\n",
       "<table border=\"1\" class=\"dataframe\">\n",
       "  <thead>\n",
       "    <tr style=\"text-align: right;\">\n",
       "      <th></th>\n",
       "      <th>0</th>\n",
       "      <th>1</th>\n",
       "      <th>2</th>\n",
       "      <th>3</th>\n",
       "      <th>4</th>\n",
       "      <th>5</th>\n",
       "      <th>6</th>\n",
       "      <th>7</th>\n",
       "      <th>8</th>\n",
       "      <th>9</th>\n",
       "      <th>author</th>\n",
       "    </tr>\n",
       "    <tr>\n",
       "      <th>id</th>\n",
       "      <th></th>\n",
       "      <th></th>\n",
       "      <th></th>\n",
       "      <th></th>\n",
       "      <th></th>\n",
       "      <th></th>\n",
       "      <th></th>\n",
       "      <th></th>\n",
       "      <th></th>\n",
       "      <th></th>\n",
       "      <th></th>\n",
       "    </tr>\n",
       "  </thead>\n",
       "  <tbody>\n",
       "    <tr>\n",
       "      <th>0</th>\n",
       "      <td>0.142636</td>\n",
       "      <td>0.431070</td>\n",
       "      <td>0.032912</td>\n",
       "      <td>-0.486796</td>\n",
       "      <td>0.261718</td>\n",
       "      <td>-1.013906</td>\n",
       "      <td>-0.081827</td>\n",
       "      <td>0.330352</td>\n",
       "      <td>0.438262</td>\n",
       "      <td>-0.761088</td>\n",
       "      <td>Ubuntius</td>\n",
       "    </tr>\n",
       "    <tr>\n",
       "      <th>1</th>\n",
       "      <td>0.019197</td>\n",
       "      <td>0.525284</td>\n",
       "      <td>0.068476</td>\n",
       "      <td>0.166658</td>\n",
       "      <td>0.261718</td>\n",
       "      <td>0.231839</td>\n",
       "      <td>0.635431</td>\n",
       "      <td>0.133209</td>\n",
       "      <td>0.313536</td>\n",
       "      <td>-0.002374</td>\n",
       "      <td>Philippus</td>\n",
       "    </tr>\n",
       "    <tr>\n",
       "      <th>2</th>\n",
       "      <td>0.093260</td>\n",
       "      <td>-0.087108</td>\n",
       "      <td>-2.268081</td>\n",
       "      <td>-0.164963</td>\n",
       "      <td>0.261718</td>\n",
       "      <td>1.477585</td>\n",
       "      <td>0.635431</td>\n",
       "      <td>-0.370641</td>\n",
       "      <td>0.126447</td>\n",
       "      <td>1.078357</td>\n",
       "      <td>Marcus</td>\n",
       "    </tr>\n",
       "    <tr>\n",
       "      <th>3</th>\n",
       "      <td>-0.017834</td>\n",
       "      <td>-0.228430</td>\n",
       "      <td>0.370770</td>\n",
       "      <td>1.293671</td>\n",
       "      <td>0.172340</td>\n",
       "      <td>-0.058835</td>\n",
       "      <td>0.446679</td>\n",
       "      <td>1.609556</td>\n",
       "      <td>2.277968</td>\n",
       "      <td>-0.172339</td>\n",
       "      <td>Clarius</td>\n",
       "    </tr>\n",
       "    <tr>\n",
       "      <th>4</th>\n",
       "      <td>0.080916</td>\n",
       "      <td>-0.142067</td>\n",
       "      <td>0.171611</td>\n",
       "      <td>-0.470713</td>\n",
       "      <td>0.261718</td>\n",
       "      <td>-0.141884</td>\n",
       "      <td>-0.044076</td>\n",
       "      <td>0.375551</td>\n",
       "      <td>0.032902</td>\n",
       "      <td>0.009898</td>\n",
       "      <td>Philippus</td>\n",
       "    </tr>\n",
       "  </tbody>\n",
       "</table>\n",
       "</div>"
      ],
      "text/plain": [
       "           0         1         2         3         4         5         6  \\\n",
       "id                                                                         \n",
       "0   0.142636  0.431070  0.032912 -0.486796  0.261718 -1.013906 -0.081827   \n",
       "1   0.019197  0.525284  0.068476  0.166658  0.261718  0.231839  0.635431   \n",
       "2   0.093260 -0.087108 -2.268081 -0.164963  0.261718  1.477585  0.635431   \n",
       "3  -0.017834 -0.228430  0.370770  1.293671  0.172340 -0.058835  0.446679   \n",
       "4   0.080916 -0.142067  0.171611 -0.470713  0.261718 -0.141884 -0.044076   \n",
       "\n",
       "           7         8         9     author  \n",
       "id                                           \n",
       "0   0.330352  0.438262 -0.761088   Ubuntius  \n",
       "1   0.133209  0.313536 -0.002374  Philippus  \n",
       "2  -0.370641  0.126447  1.078357     Marcus  \n",
       "3   1.609556  2.277968 -0.172339    Clarius  \n",
       "4   0.375551  0.032902  0.009898  Philippus  "
      ]
     },
     "execution_count": 16,
     "metadata": {},
     "output_type": "execute_result"
    }
   ],
   "source": [
    "df = pd.read_csv(\"./training_dataset.csv\", index_col=0)\n",
    "\n",
    "dftest = pd.read_csv(\"./test_dataset.csv\", index_col=0)\n",
    "df.head()\n",
    "#df.dtypes\n",
    "#dftest.dtypes\n",
    "#df.skew()\n",
    "#dftest.skew()\n",
    "#df.corr()\n",
    "#dftest.corr()\n",
    "# among other tests"
   ]
  },
  {
   "cell_type": "markdown",
   "metadata": {},
   "source": [
    "## Selecting parameters to test for:"
   ]
  },
  {
   "cell_type": "code",
   "execution_count": 17,
   "metadata": {},
   "outputs": [],
   "source": [
    "X = df[[\"0\", \"1\", \"2\", \"3\", \"4\", \"5\", \"6\",\"7\", \"8\", \"9\"]]\n",
    "y = df[[\"author\"]]\n",
    "\n",
    "X_train, X_test, y_train, y_test = train_test_split(X, y,test_size=0.2)"
   ]
  },
  {
   "cell_type": "markdown",
   "metadata": {},
   "source": [
    "## Importing different ML Models:"
   ]
  },
  {
   "cell_type": "code",
   "execution_count": 18,
   "metadata": {},
   "outputs": [],
   "source": [
    "from sklearn.model_selection import cross_val_score\n",
    "import numpy as np\n",
    "from sklearn.ensemble import RandomForestClassifier\n",
    "from sklearn.experimental import enable_hist_gradient_boosting\n",
    "from sklearn.ensemble import HistGradientBoostingClassifier\n",
    "from sklearn.ensemble import GradientBoostingClassifier\n",
    "from sklearn.neighbors import KNeighborsClassifier\n",
    "from sklearn.svm import LinearSVC\n",
    "from sklearn.calibration import CalibratedClassifierCV\n",
    "#models = {\n",
    "#    \"Linear\": LinearSVC(max_iter=300),\n",
    "#    \"neighbors\": KNeighborsClassifier(),\n",
    "#    \"histboosting\": HistGradientBoostingClassifier(),\n",
    "#    \"histboosting0.25\": HistGradientBoostingClassifier(learning_rate=0.25),\n",
    "#    \"histRegressor\": HistGradientBoostingRegressor(),\n",
    "#    \"histRegressor0.20\": HistGradientBoostingRegressor(learning_rate=0.2)\n",
    "#    \"forest300,50\": RandomForestClassifier(n_estimators=300, max_depth=10),\n",
    "#    \"Gradientboosting\" : GradientBoostingClassifier(learning_rate=0.2)\n",
    "#}\n",
    "#for name, model in models.items():\n",
    "#    scores = cross_val_score(model, X, y, cv=30)\n",
    "#    print(f\"{name} accuracy => {np.mean(scores)}\")"
   ]
  },
  {
   "cell_type": "markdown",
   "metadata": {},
   "source": [
    "## Models results:"
   ]
  },
  {
   "cell_type": "code",
   "execution_count": 23,
   "metadata": {},
   "outputs": [],
   "source": [
    "Linear accuracy => 0.5399008728179553\n",
    "neighbors accuracy => 0.7565130922693266\n",
    "histboosting accuracy => 0.9994168744804653\n",
    "histboosting(0.2) accuracy => 0.9998333333333334\n",
    "forest300,50 accuracy => 0.8773422693266834\n",
    "Gradientboosting accuracy => 0.9414089775561099\n",
    "Gradientboosting(0.2) accuracy => 0.9912626766417287"
   ]
  },
  {
   "cell_type": "markdown",
   "metadata": {},
   "source": [
    "## Fitting best model to create training Data set:"
   ]
  },
  {
   "cell_type": "code",
   "execution_count": 31,
   "metadata": {},
   "outputs": [
    {
     "name": "stderr",
     "output_type": "stream",
     "text": [
      "/home/fabian/.local/lib/python3.7/site-packages/sklearn/utils/validation.py:760: DataConversionWarning: A column-vector y was passed when a 1d array was expected. Please change the shape of y to (n_samples, ), for example using ravel().\n",
      "  y = column_or_1d(y, warn=True)\n"
     ]
    }
   ],
   "source": [
    "df_hgbc = HistGradientBoostingClassifier(learning_rate=0.25)\n",
    "df_train_hgbc = df_hgbc.fit(X_train, y_train)"
   ]
  },
  {
   "cell_type": "markdown",
   "metadata": {},
   "source": [
    "## Getting predictions Data Set and Checking shape to test with  Testing Data Set:"
   ]
  },
  {
   "cell_type": "code",
   "execution_count": 32,
   "metadata": {},
   "outputs": [
    {
     "data": {
      "text/plain": [
       "(8012,)"
      ]
     },
     "execution_count": 32,
     "metadata": {},
     "output_type": "execute_result"
    }
   ],
   "source": [
    "y_pred_hgbc = df_train_hgbc.predict(dftest)\n",
    "y_pred_hgbc.shape"
   ]
  },
  {
   "cell_type": "markdown",
   "metadata": {},
   "source": [
    "## Taking id column to add to prediction Data Set:"
   ]
  },
  {
   "cell_type": "code",
   "execution_count": 33,
   "metadata": {},
   "outputs": [
    {
     "data": {
      "text/plain": [
       "(8012, 11)"
      ]
     },
     "execution_count": 33,
     "metadata": {},
     "output_type": "execute_result"
    }
   ],
   "source": [
    "df = pd.read_csv(\"./test_dataset.csv\")\n",
    "df.shape"
   ]
  },
  {
   "cell_type": "markdown",
   "metadata": {},
   "source": [
    "## Creating final Data Set Prediction:"
   ]
  },
  {
   "cell_type": "code",
   "execution_count": 35,
   "metadata": {},
   "outputs": [
    {
     "data": {
      "text/html": [
       "<div>\n",
       "<style scoped>\n",
       "    .dataframe tbody tr th:only-of-type {\n",
       "        vertical-align: middle;\n",
       "    }\n",
       "\n",
       "    .dataframe tbody tr th {\n",
       "        vertical-align: top;\n",
       "    }\n",
       "\n",
       "    .dataframe thead th {\n",
       "        text-align: right;\n",
       "    }\n",
       "</style>\n",
       "<table border=\"1\" class=\"dataframe\">\n",
       "  <thead>\n",
       "    <tr style=\"text-align: right;\">\n",
       "      <th></th>\n",
       "      <th>id</th>\n",
       "      <th>author</th>\n",
       "    </tr>\n",
       "  </thead>\n",
       "  <tbody>\n",
       "    <tr>\n",
       "      <th>0</th>\n",
       "      <td>0</td>\n",
       "      <td>Philippus</td>\n",
       "    </tr>\n",
       "    <tr>\n",
       "      <th>1</th>\n",
       "      <td>1</td>\n",
       "      <td>Philippus</td>\n",
       "    </tr>\n",
       "    <tr>\n",
       "      <th>2</th>\n",
       "      <td>2</td>\n",
       "      <td>Marcus</td>\n",
       "    </tr>\n",
       "    <tr>\n",
       "      <th>3</th>\n",
       "      <td>3</td>\n",
       "      <td>Marcus</td>\n",
       "    </tr>\n",
       "    <tr>\n",
       "      <th>4</th>\n",
       "      <td>4</td>\n",
       "      <td>Marcus</td>\n",
       "    </tr>\n",
       "    <tr>\n",
       "      <th>...</th>\n",
       "      <td>...</td>\n",
       "      <td>...</td>\n",
       "    </tr>\n",
       "    <tr>\n",
       "      <th>8007</th>\n",
       "      <td>8007</td>\n",
       "      <td>Philippus</td>\n",
       "    </tr>\n",
       "    <tr>\n",
       "      <th>8008</th>\n",
       "      <td>8008</td>\n",
       "      <td>Blanquius</td>\n",
       "    </tr>\n",
       "    <tr>\n",
       "      <th>8009</th>\n",
       "      <td>8009</td>\n",
       "      <td>Blanquius</td>\n",
       "    </tr>\n",
       "    <tr>\n",
       "      <th>8010</th>\n",
       "      <td>8010</td>\n",
       "      <td>Marcus</td>\n",
       "    </tr>\n",
       "    <tr>\n",
       "      <th>8011</th>\n",
       "      <td>8011</td>\n",
       "      <td>Philippus</td>\n",
       "    </tr>\n",
       "  </tbody>\n",
       "</table>\n",
       "<p>8012 rows × 2 columns</p>\n",
       "</div>"
      ],
      "text/plain": [
       "        id     author\n",
       "0        0  Philippus\n",
       "1        1  Philippus\n",
       "2        2     Marcus\n",
       "3        3     Marcus\n",
       "4        4     Marcus\n",
       "...    ...        ...\n",
       "8007  8007  Philippus\n",
       "8008  8008  Blanquius\n",
       "8009  8009  Blanquius\n",
       "8010  8010     Marcus\n",
       "8011  8011  Philippus\n",
       "\n",
       "[8012 rows x 2 columns]"
      ]
     },
     "execution_count": 35,
     "metadata": {},
     "output_type": "execute_result"
    }
   ],
   "source": [
    "Avila = pd.DataFrame({\"id\":df[\"id\"],\"author\":y_pred_hgbc})\n",
    "Avila"
   ]
  },
  {
   "cell_type": "markdown",
   "metadata": {},
   "source": [
    "## Saving final prediction Data Set:"
   ]
  },
  {
   "cell_type": "code",
   "execution_count": 36,
   "metadata": {},
   "outputs": [],
   "source": [
    "Avila.to_csv('author_Predict12.csv', index=False)"
   ]
  }
 ],
 "metadata": {
  "kernelspec": {
   "display_name": "Python 3",
   "language": "python",
   "name": "python3"
  },
  "language_info": {
   "codemirror_mode": {
    "name": "ipython",
    "version": 3
   },
   "file_extension": ".py",
   "mimetype": "text/x-python",
   "name": "python",
   "nbconvert_exporter": "python",
   "pygments_lexer": "ipython3",
   "version": "3.7.5"
  }
 },
 "nbformat": 4,
 "nbformat_minor": 4
}
